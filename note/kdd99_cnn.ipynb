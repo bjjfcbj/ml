{
 "nbformat": 4,
 "nbformat_minor": 2,
 "metadata": {
  "language_info": {
   "name": "python",
   "codemirror_mode": {
    "name": "ipython",
    "version": 3
   },
   "version": "3.8.1-final"
  },
  "orig_nbformat": 2,
  "file_extension": ".py",
  "mimetype": "text/x-python",
  "name": "python",
  "npconvert_exporter": "python",
  "pygments_lexer": "ipython3",
  "version": 3,
  "kernelspec": {
   "name": "python3",
   "display_name": "Python 3"
  }
 },
 "cells": [
  {
   "cell_type": "code",
   "execution_count": 133,
   "metadata": {},
   "outputs": [],
   "source": [
    "import torch\n",
    "\n",
    "import matplotlib.pyplot as plt\n",
    "import numpy as np\n",
    "\n",
    "import torch.nn as nn\n",
    "import torch.nn.functional as F\n",
    "import torch.optim as optim\n",
    "\n",
    "import Model as kdd"
   ]
  },
  {
   "cell_type": "code",
   "execution_count": 134,
   "metadata": {},
   "outputs": [],
   "source": [
    "batch_size=400\n",
    "datamodel=kdd.kdd99Data(batch_size)\n",
    "#dataloaders\n",
    "trainloader=datamodel.train_dataloader\n",
    "testloader=datamodel.test_dataloader\n",
    "\n",
    "#constant for classes\n",
    "classes=tuple([i for i in range(23)])"
   ]
  },
  {
   "cell_type": "code",
   "execution_count": 135,
   "metadata": {},
   "outputs": [],
   "source": [
    "#CNN\n",
    "class Net(nn.Module):\n",
    "    def __init__(self):\n",
    "        super(Net,self).__init__()\n",
    "        self.convmodel=nn.Sequential(nn.Conv2d(1,6,3,padding=2),\n",
    "                                    nn.BatchNorm2d(6),\n",
    "                                    nn.Sigmoid(),\n",
    "                                    nn.Conv2d(6,16,3),\n",
    "                                    nn.BatchNorm2d(16),\n",
    "                                    nn.Sigmoid(),\n",
    "                                    )\n",
    "        self.fcmodel=nn.Sequential(nn.Linear(16*8*8,200),\n",
    "                                    nn.BatchNorm1d(200),\n",
    "                                    nn.Sigmoid(),\n",
    "                                    nn.Dropout(p=0.3),\n",
    "                                    nn.Linear(200,128),\n",
    "                                    nn.Sigmoid(),\n",
    "                                    nn.Dropout(p=0.3),\n",
    "                                    nn.Linear(128,23)\n",
    "                                    )\n",
    "\n",
    "    def forward(self,out):\n",
    "        out=self.convmodel(out)\n",
    "        out=out.view(-1,16*8*8)\n",
    "        out=self.fcmodel(out)\n",
    "        return out\n",
    ""
   ]
  },
  {
   "cell_type": "code",
   "execution_count": 136,
   "metadata": {},
   "outputs": [],
   "source": [
    "def accuracy(net,testloader):\n",
    "    correct = 0.\n",
    "    total = 0.\n",
    "    with torch.no_grad():\n",
    "        for data in testloader:\n",
    "            cvdata, labels = data\n",
    "            outputs = net(cvdata)\n",
    "            _, predicted = torch.max(outputs.data, 1)\n",
    "            # predicted[predicted>0]=1.\n",
    "            total += labels.size(0)\n",
    "            correct += (predicted == labels).sum().item()\n",
    "\n",
    "    #print(\"correct:%d  total:%d\" %(correct,total))\n",
    "    print('Accuracy: %6f %%' % (100 * correct / total))"
   ]
  },
  {
   "cell_type": "code",
   "execution_count": 137,
   "metadata": {},
   "outputs": [],
   "source": [
    "net = Net()\n",
    "criterion = nn.CrossEntropyLoss()\n",
    "optimizer = optim.Adam(net.parameters(), lr=1e-2)\n",
    "#scheduler = optim.lr_scheduler.StepLR(optimizer, 6,gamma=0.1)"
   ]
  },
  {
   "cell_type": "code",
   "execution_count": 138,
   "metadata": {
    "tags": [
     "outputPrepend",
     "outputPrepend",
     "outputPrepend",
     "outputPrepend",
     "outputPrepend",
     "outputPrepend",
     "outputPrepend",
     "outputPrepend",
     "outputPrepend",
     "outputPrepend",
     "outputPrepend",
     "outputPrepend",
     "outputPrepend",
     "outputPrepend",
     "outputPrepend",
     "outputPrepend",
     "outputPrepend",
     "outputPrepend",
     "outputPrepend",
     "outputPrepend",
     "outputPrepend",
     "outputPrepend"
    ]
   },
   "outputs": [
    {
     "output_type": "stream",
     "name": "stdout",
     "text": "[1,   200] ava_loss: 0.17079\nAccuracy: 98.329364 %\n[1,   400] ava_loss: 0.05484\nAccuracy: 98.781434 %\n[1,   600] ava_loss: 0.05643\nAccuracy: 98.128294 %\n[1,   800] ava_loss: 0.04382\nAccuracy: 99.055375 %\n[2,   200] ava_loss: 0.04129\nAccuracy: 99.197069 %\n[2,   400] ava_loss: 0.02739\nAccuracy: 99.430526 %\n[2,   600] ava_loss: 0.02885\nAccuracy: 99.280736 %\n[2,   800] ava_loss: 0.02074\nAccuracy: 99.538483 %\nFinished Training\n"
    }
   ],
   "source": [
    "running_loss = 0.0\n",
    "mini_batches_count=200\n",
    "for epoch in range(2):  # loop over the dataset multiple times\n",
    "    for i, data in enumerate(trainloader, 0):\n",
    "\n",
    "        # get the inputs; data is a list of [inputs, labels]\n",
    "        inputs, labels = data\n",
    "\n",
    "        # zero the parameter gradients\n",
    "        optimizer.zero_grad()\n",
    "\n",
    "        # forward + backward + optimize\n",
    "        outputs = net(inputs)\n",
    "        loss = criterion(outputs, labels)\n",
    "        loss.backward()\n",
    "        optimizer.step()\n",
    "\n",
    "        running_loss += loss.item()\n",
    "        # every * mini-batches...\n",
    "        if i % mini_batches_count == (mini_batches_count-1):    \n",
    "            #scheduler.step()\n",
    "            print(\"[%d,%6d] ava_loss: %.5f\"%(epoch+1,i+1,running_loss/mini_batches_count))    \n",
    "            accuracy(net,testloader)\n",
    "            running_loss = 0.0\n",
    "\n",
    "print('Finished Training')"
   ]
  },
  {
   "cell_type": "code",
   "execution_count": 139,
   "metadata": {},
   "outputs": [],
   "source": [
    "PATH=\"../../pth/nsl_kdd_test.pth\"\n",
    "torch.save(net.state_dict(),PATH)"
   ]
  },
  {
   "cell_type": "code",
   "execution_count": 140,
   "metadata": {},
   "outputs": [
    {
     "output_type": "execute_result",
     "data": {
      "text/plain": "<All keys matched successfully>"
     },
     "metadata": {},
     "execution_count": 140
    }
   ],
   "source": [
    "net = Net()\n",
    "net.load_state_dict(torch.load(PATH))"
   ]
  },
  {
   "cell_type": "code",
   "execution_count": 141,
   "metadata": {
    "tags": [
     "outputPrepend",
     "outputPrepend",
     "outputPrepend",
     "outputPrepend",
     "outputPrepend",
     "outputPrepend",
     "outputPrepend",
     "outputPrepend",
     "outputPrepend",
     "outputPrepend",
     "outputPrepend",
     "outputPrepend",
     "outputPrepend",
     "outputPrepend",
     "outputPrepend",
     "outputPrepend",
     "outputPrepend",
     "outputPrepend",
     "outputPrepend",
     "outputPrepend",
     "outputPrepend",
     "outputPrepend",
     "outputPrepend",
     "outputPrepend",
     "outputPrepend",
     "outputPrepend",
     "outputPrepend",
     "outputPrepend",
     "outputPrepend",
     "outputPrepend"
    ]
   },
   "outputs": [
    {
     "output_type": "stream",
     "name": "stdout",
     "text": "total:692,correct:691\nAccuracy: 99.8555 %\ntotal:7,correct:0\nAccuracy: 0.0000 %\ntotal:1,correct:0\nAccuracy: 0.0000 %\ntotal:18,correct:0\nAccuracy: 0.0000 %\ntotal:2,correct:0\nAccuracy: 0.0000 %\ntotal:369,correct:279\nAccuracy: 75.6098 %\ntotal:5,correct:0\nAccuracy: 0.0000 %\ntotal:4,correct:0\nAccuracy: 0.0000 %\ntotal:0,correct:0\nAccuracy:\ntotal:32141,correct:32104\nAccuracy: 99.8849 %\ntotal:75,correct:0\nAccuracy: 0.0000 %\ntotal:29294,correct:29177\nAccuracy: 99.6006 %\ntotal:1,correct:0\nAccuracy: 0.0000 %\ntotal:2,correct:0\nAccuracy: 0.0000 %\ntotal:90,correct:43\nAccuracy: 47.7778 %\ntotal:326,correct:274\nAccuracy: 84.0491 %\ntotal:3,correct:0\nAccuracy: 0.0000 %\ntotal:473,correct:382\nAccuracy: 80.7611 %\ntotal:84083,correct:84075\nAccuracy: 99.9905 %\ntotal:0,correct:0\nAccuracy:\ntotal:281,correct:267\nAccuracy: 95.0178 %\ntotal:335,correct:270\nAccuracy: 80.5970 %\ntotal:5,correct:0\nAccuracy: 0.0000 %\n"
    }
   ],
   "source": [
    "class_correct = list(0 for i in range(23))\n",
    "class_total = list(0 for i in range(23))\n",
    "with torch.no_grad():\n",
    "    for data in testloader:\n",
    "        images, labels = data\n",
    "        outputs = net(images)\n",
    "        _, predicted = torch.max(outputs, 1)\n",
    "        # predicted[predicted>0]=1\n",
    "        c = (predicted == labels).squeeze()\n",
    "        for i in range(len(labels)):\n",
    "            label = labels[i]\n",
    "            class_correct[label] += c[i].item()\n",
    "            class_total[label] += 1\n",
    "\n",
    "\n",
    "for i in range(23):\n",
    "    print('total:%d,correct:%d' %(class_total[i],class_correct[i]))\n",
    "    if class_total[i]!=0:\n",
    "        print('Accuracy: %.4f %%' % (100 * class_correct[i] / class_total[i]))\n",
    "    else:\n",
    "        print('Accuracy:')"
   ]
  },
  {
   "cell_type": "code",
   "execution_count": null,
   "metadata": {},
   "outputs": [],
   "source": []
  }
 ]
}