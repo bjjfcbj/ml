{
 "nbformat": 4,
 "nbformat_minor": 2,
 "metadata": {
  "language_info": {
   "name": "python",
   "codemirror_mode": {
    "name": "ipython",
    "version": 3
   },
   "version": "3.8.1-final"
  },
  "orig_nbformat": 2,
  "file_extension": ".py",
  "mimetype": "text/x-python",
  "name": "python",
  "npconvert_exporter": "python",
  "pygments_lexer": "ipython3",
  "version": 3,
  "kernelspec": {
   "name": "python3",
   "display_name": "Python 3"
  }
 },
 "cells": [
  {
   "cell_type": "code",
   "execution_count": null,
   "metadata": {},
   "outputs": [],
   "source": [
    "import torch\n",
    "import torchvision\n",
    "import torchvision.transforms as transforms\n",
    "\n",
    "import matplotlib.pyplot as plt\n",
    "import numpy as np\n",
    "\n",
    "import torch.nn as nn\n",
    "import torch.nn.functional as F\n",
    "import torch.optim as optim"
   ]
  },
  {
   "cell_type": "code",
   "execution_count": 22,
   "metadata": {},
   "outputs": [
    {
     "name": "stdout",
     "output_type": "stream",
     "text": "duration protocol_type      service     flag  src_bytes  dst_bytes  \\\n0           0.0        b'tcp'   b'private'   b'REJ'        0.0        0.0   \n1           0.0        b'tcp'   b'private'   b'REJ'        0.0        0.0   \n2           2.0        b'tcp'  b'ftp_data'    b'SF'    12983.0        0.0   \n3           0.0       b'icmp'     b'eco_i'    b'SF'       20.0        0.0   \n4           1.0        b'tcp'    b'telnet'  b'RSTO'        0.0       15.0   \n...         ...           ...          ...      ...        ...        ...   \n22539       0.0        b'tcp'      b'smtp'    b'SF'      794.0      333.0   \n22540       0.0        b'tcp'      b'http'    b'SF'      317.0      938.0   \n22541       0.0        b'tcp'      b'http'    b'SF'    54540.0     8314.0   \n22542       0.0        b'udp'  b'domain_u'    b'SF'       42.0       42.0   \n22543       0.0        b'tcp'    b'sunrpc'   b'REJ'        0.0        0.0   \n\n       land  wrong_fragment  urgent  hot  ...  dst_host_srv_count  \\\n0      b'0'             0.0     0.0  0.0  ...                10.0   \n1      b'0'             0.0     0.0  0.0  ...                 1.0   \n2      b'0'             0.0     0.0  0.0  ...                86.0   \n3      b'0'             0.0     0.0  0.0  ...                57.0   \n4      b'0'             0.0     0.0  0.0  ...                86.0   \n...     ...             ...     ...  ...  ...                 ...   \n22539  b'0'             0.0     0.0  0.0  ...               141.0   \n22540  b'0'             0.0     0.0  0.0  ...               255.0   \n22541  b'0'             0.0     0.0  2.0  ...               255.0   \n22542  b'0'             0.0     0.0  0.0  ...               252.0   \n22543  b'0'             0.0     0.0  0.0  ...                21.0   \n\n      dst_host_same_srv_rate  dst_host_diff_srv_rate  \\\n0                       0.04                    0.06   \n1                       0.00                    0.06   \n2                       0.61                    0.04   \n3                       1.00                    0.00   \n4                       0.31                    0.17   \n...                      ...                     ...   \n22539                   0.72                    0.06   \n22540                   1.00                    0.00   \n22541                   1.00                    0.00   \n22542                   0.99                    0.01   \n22543                   0.08                    0.03   \n\n       dst_host_same_src_port_rate  dst_host_srv_diff_host_rate  \\\n0                             0.00                         0.00   \n1                             0.00                         0.00   \n2                             0.61                         0.02   \n3                             1.00                         0.28   \n4                             0.03                         0.02   \n...                            ...                          ...   \n22539                         0.01                         0.01   \n22540                         0.01                         0.01   \n22541                         0.00                         0.00   \n22542                         0.00                         0.00   \n22543                         0.00                         0.00   \n\n       dst_host_serror_rate  dst_host_srv_serror_rate  dst_host_rerror_rate  \\\n0                      0.00                       0.0                  1.00   \n1                      0.00                       0.0                  1.00   \n2                      0.00                       0.0                  0.00   \n3                      0.00                       0.0                  0.00   \n4                      0.00                       0.0                  0.83   \n...                     ...                       ...                   ...   \n22539                  0.01                       0.0                  0.00   \n22540                  0.01                       0.0                  0.00   \n22541                  0.00                       0.0                  0.07   \n22542                  0.00                       0.0                  0.00   \n22543                  0.00                       0.0                  0.44   \n\n       dst_host_srv_rerror_rate       class  \n0                          1.00  b'anomaly'  \n1                          1.00  b'anomaly'  \n2                          0.00   b'normal'  \n3                          0.00  b'anomaly'  \n4                          0.71  b'anomaly'  \n...                         ...         ...  \n22539                      0.00   b'normal'  \n22540                      0.00   b'normal'  \n22541                      0.07  b'anomaly'  \n22542                      0.00   b'normal'  \n22543                      1.00  b'anomaly'  \n\n[22544 rows x 42 columns]\n"
    }
   ],
   "source": [
    "from scipy.io import arff\n",
    "import numpy\n",
    "import pandas as pd\n",
    "\n",
    "data = arff.loadarff('../../data/nsl-kdd/KDDTest+.arff.txt')\n",
    "df = pd.DataFrame(data[0])\n",
    "print(df)"
   ]
  },
  {
   "cell_type": "code",
   "execution_count": null,
   "metadata": {},
   "outputs": [],
   "source": []
  }
 ]
}