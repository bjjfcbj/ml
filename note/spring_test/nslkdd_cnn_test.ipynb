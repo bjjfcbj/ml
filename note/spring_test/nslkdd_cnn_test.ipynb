{
 "nbformat": 4,
 "nbformat_minor": 2,
 "metadata": {
  "language_info": {
   "name": "python",
   "codemirror_mode": {
    "name": "ipython",
    "version": 3
   },
   "version": "3.8.1-final"
  },
  "orig_nbformat": 2,
  "file_extension": ".py",
  "mimetype": "text/x-python",
  "name": "python",
  "npconvert_exporter": "python",
  "pygments_lexer": "ipython3",
  "version": 3,
  "kernelspec": {
   "name": "python3",
   "display_name": "Python 3"
  }
 },
 "cells": [
  {
   "cell_type": "code",
   "execution_count": 19,
   "metadata": {},
   "outputs": [],
   "source": [
    "import torch\n",
    "#import torchvision\n",
    "#import torchvision.transforms as transforms\n",
    "\n",
    "import matplotlib.pyplot as plt\n",
    "import numpy as np\n",
    "\n",
    "import torch.nn as nn\n",
    "import torch.nn.functional as F\n",
    "import torch.optim as optim\n",
    "\n",
    "import KddModel as kdd"
   ]
  },
  {
   "cell_type": "code",
   "execution_count": 20,
   "metadata": {},
   "outputs": [],
   "source": [
    "batch_size=100\n",
    "root='../../data/kdd/'\n",
    "transform=torch.FloatTensor\n",
    "\n",
    "#dataset\n",
    "trainset=kdd.Kddset(\"KDDTrain+.txt\",train=True,transform=transform)\n",
    "testset=kdd.Kddset(\"KDDTest+.txt\",train=False,transform=transform)\n",
    "\n",
    "#dataloaders\n",
    "trainloader=torch.utils.data.DataLoader(trainset,batch_size=batch_size,shuffle=True)\n",
    "testloader=torch.utils.data.DataLoader(testset,batch_size=batch_size)\n",
    "\n",
    "#constant for classes\n",
    "classes=('normaly','anormal')"
   ]
  },
  {
   "cell_type": "code",
   "execution_count": 21,
   "metadata": {},
   "outputs": [],
   "source": [
    "#CNN\n",
    "class Net(nn.Module):\n",
    "    def __init__(self):\n",
    "        super(Net,self).__init__()\n",
    "        self.convmodel=nn.Sequential(nn.Conv2d(1,6,3,padding=2),\n",
    "                                    nn.BatchNorm2d(6),\n",
    "                                    nn.Sigmoid(),\n",
    "                                    nn.Conv2d(6,16,3),\n",
    "                                    nn.BatchNorm2d(16),\n",
    "                                    nn.Sigmoid(),\n",
    "                                    )\n",
    "        self.fcmodel=nn.Sequential(nn.Linear(16*7*7,200),\n",
    "                                    nn.BatchNorm1d(200),\n",
    "                                    nn.Sigmoid(),\n",
    "                                    nn.Linear(200,20),\n",
    "                                    nn.Sigmoid(),\n",
    "                                    nn.Linear(20,2)\n",
    "                                    )\n",
    "\n",
    "    def forward(self,out):\n",
    "        out=self.convmodel(out)\n",
    "        out=out.view(-1,16*7*7)\n",
    "        out=self.fcmodel(out)\n",
    "        return out\n",
    ""
   ]
  },
  {
   "cell_type": "code",
   "execution_count": 22,
   "metadata": {},
   "outputs": [],
   "source": [
    "def accuracy(net,testloader):\n",
    "    correct = 0\n",
    "    total = 0\n",
    "    with torch.no_grad():\n",
    "        for data in testloader:\n",
    "            cvdata, labels = data\n",
    "            outputs = net(cvdata)\n",
    "            _, predicted = torch.max(outputs.data, 1)\n",
    "            predicted[predicted>0]=1.\n",
    "            total += labels.size(0)\n",
    "            correct += (predicted == labels).sum().item()\n",
    "\n",
    "    #print(\"correct:%d  total:%d\" %(correct,total))\n",
    "    print('Accuracy: %d %%' % (100 * correct / total))"
   ]
  },
  {
   "cell_type": "code",
   "execution_count": 23,
   "metadata": {},
   "outputs": [],
   "source": [
    "net = Net()\n",
    "criterion = nn.CrossEntropyLoss()\n",
    "optimizer = optim.Adam(net.parameters(), lr=1e-2)\n",
    "#scheduler = optim.lr_scheduler.StepLR(optimizer, 6,gamma=0.1)"
   ]
  },
  {
   "cell_type": "code",
   "execution_count": 24,
   "metadata": {},
   "outputs": [
    {
     "output_type": "stream",
     "name": "stdout",
     "text": "[1,   200] ava_loss: 0.25556\n[1,   400] ava_loss: 0.14957\n[1,   600] ava_loss: 0.13247\n[1,   800] ava_loss: 0.09738\n[1,  1000] ava_loss: 0.09551\n[1,  1200] ava_loss: 0.08646\nAccuracy: 77 %\n[2,   200] ava_loss: 0.10152\n[2,   400] ava_loss: 0.08627\n[2,   600] ava_loss: 0.05362\n[2,   800] ava_loss: 0.05430\n[2,  1000] ava_loss: 0.07013\n[2,  1200] ava_loss: 0.06109\nAccuracy: 78 %\n[3,   200] ava_loss: 0.06241\n[3,   400] ava_loss: 0.04467\n[3,   600] ava_loss: 0.04927\n[3,   800] ava_loss: 0.03949\n[3,  1000] ava_loss: 0.04580\n[3,  1200] ava_loss: 0.04348\nAccuracy: 81 %\n[4,   200] ava_loss: 0.05800\n[4,   400] ava_loss: 0.03959\n[4,   600] ava_loss: 0.03232\n[4,   800] ava_loss: 0.02916\n[4,  1000] ava_loss: 0.03384\n[4,  1200] ava_loss: 0.03019\nAccuracy: 81 %\nFinished Training\n"
    }
   ],
   "source": [
    "running_loss = 0.0\n",
    "mini_batches_count=200\n",
    "for epoch in range(4):  # loop over the dataset multiple times\n",
    "    for i, data in enumerate(trainloader, 0):\n",
    "\n",
    "        # get the inputs; data is a list of [inputs, labels]\n",
    "        inputs, labels = data\n",
    "\n",
    "        # zero the parameter gradients\n",
    "        optimizer.zero_grad()\n",
    "\n",
    "        # forward + backward + optimize\n",
    "        outputs = net(inputs)\n",
    "        # whatur(labels)\n",
    "        # break\n",
    "        loss = criterion(outputs, labels)\n",
    "        loss.backward()\n",
    "        optimizer.step()\n",
    "\n",
    "        running_loss += loss.item()\n",
    "        # every 1000 mini-batches...\n",
    "        if i % mini_batches_count == (mini_batches_count-1):    \n",
    "            #scheduler.step()\n",
    "            print(\"[%d,%6d] ava_loss: %.5f\"%(epoch+1,i+1,running_loss/mini_batches_count))    \n",
    "            running_loss = 0.0\n",
    "\n",
    "    accuracy(net,testloader)\n",
    "print('Finished Training')"
   ]
  },
  {
   "cell_type": "code",
   "execution_count": 25,
   "metadata": {},
   "outputs": [],
   "source": [
    "PATH=\"../../pth/nsl_kdd_test.pth\"\n",
    "torch.save(net.state_dict(),PATH)"
   ]
  },
  {
   "cell_type": "code",
   "execution_count": 26,
   "metadata": {},
   "outputs": [
    {
     "output_type": "execute_result",
     "data": {
      "text/plain": "<All keys matched successfully>"
     },
     "metadata": {},
     "execution_count": 26
    }
   ],
   "source": [
    "net = Net()\n",
    "net.load_state_dict(torch.load(PATH))"
   ]
  },
  {
   "cell_type": "code",
   "execution_count": 27,
   "metadata": {
    "tags": [
     "outputPrepend",
     "outputPrepend",
     "outputPrepend",
     "outputPrepend",
     "outputPrepend",
     "outputPrepend",
     "outputPrepend",
     "outputPrepend",
     "outputPrepend",
     "outputPrepend",
     "outputPrepend",
     "outputPrepend",
     "outputPrepend",
     "outputPrepend",
     "outputPrepend",
     "outputPrepend",
     "outputPrepend",
     "outputPrepend",
     "outputPrepend",
     "outputPrepend",
     "outputPrepend",
     "outputPrepend",
     "outputPrepend",
     "outputPrepend",
     "outputPrepend",
     "outputPrepend",
     "outputPrepend",
     "outputPrepend",
     "outputPrepend",
     "outputPrepend"
    ]
   },
   "outputs": [
    {
     "output_type": "stream",
     "name": "stdout",
     "text": "total:9711,correct:9408\nAccuracy: 96.8798 %\ntotal:12833,correct:8992\nAccuracy: 70.0694 %\n"
    }
   ],
   "source": [
    "class_correct = list(0 for i in range(2))\n",
    "class_total = list(0 for i in range(2))\n",
    "with torch.no_grad():\n",
    "    for data in testloader:\n",
    "        images, labels = data\n",
    "        outputs = net(images)\n",
    "        _, predicted = torch.max(outputs, 1)\n",
    "        predicted[predicted>0]=1\n",
    "        c = (predicted == labels).squeeze()\n",
    "        for i in range(len(labels)):\n",
    "            label = labels[i]\n",
    "            class_correct[label] += c[i].item()\n",
    "            class_total[label] += 1\n",
    "\n",
    "\n",
    "for i in range(2):\n",
    "    print('total:%d,correct:%d' %(class_total[i],class_correct[i]))\n",
    "    print('Accuracy: %.4f %%' % (100 * class_correct[i] / class_total[i]))"
   ]
  },
  {
   "cell_type": "code",
   "execution_count": null,
   "metadata": {},
   "outputs": [],
   "source": []
  }
 ]
}