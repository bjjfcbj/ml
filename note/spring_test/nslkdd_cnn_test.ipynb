{
 "nbformat": 4,
 "nbformat_minor": 2,
 "metadata": {
  "language_info": {
   "name": "python",
   "codemirror_mode": {
    "name": "ipython",
    "version": 3
   },
   "version": "3.8.1-final"
  },
  "orig_nbformat": 2,
  "file_extension": ".py",
  "mimetype": "text/x-python",
  "name": "python",
  "npconvert_exporter": "python",
  "pygments_lexer": "ipython3",
  "version": 3,
  "kernelspec": {
   "name": "python3",
   "display_name": "Python 3"
  }
 },
 "cells": [
  {
   "cell_type": "code",
   "execution_count": 10,
   "metadata": {},
   "outputs": [],
   "source": [
    "import torch\n",
    "#import torchvision\n",
    "#import torchvision.transforms as transforms\n",
    "\n",
    "import matplotlib.pyplot as plt\n",
    "import numpy as np\n",
    "\n",
    "import torch.nn as nn\n",
    "import torch.nn.functional as F\n",
    "import torch.optim as optim\n",
    "\n",
    "import NslKdd as kdd"
   ]
  },
  {
   "cell_type": "code",
   "execution_count": 11,
   "metadata": {},
   "outputs": [],
   "source": [
    "transform=torch.FloatTensor\n",
    "\n",
    "#dataset\n",
    "trainset=kdd.NslKddset(\"../../data\",\"KDDTrain+\",train=True,transform=transform)\n",
    "testset=kdd.NslKddset(\"../../data\",\"KDDTest+\",train=False,transform=transform)\n",
    "\n",
    "#dataloaders\n",
    "trainloader=torch.utils.data.DataLoader(trainset,batch_size=10,shuffle=True)\n",
    "testloader=torch.utils.data.DataLoader(testset,batch_size=10)\n",
    "\n",
    "#constant for classes\n",
    "classes=('normaly','anamaly')"
   ]
  },
  {
   "cell_type": "code",
   "execution_count": 12,
   "metadata": {},
   "outputs": [],
   "source": [
    "class Net(nn.Module):\n",
    "    def __init__(self):\n",
    "        super(Net,self).__init__()\n",
    "        self.conv1=nn.Conv1d(1,10,2)\n",
    "        self.maxpool=nn.MaxPool1d(2,stride=2)\n",
    "        self.avgpool=nn.AvgPool1d(2,stride=2)\n",
    "        self.conv2=nn.Conv1d(10,20,2)\n",
    "        self.fc1=nn.Linear(9*20,80)\n",
    "        self.fc2=nn.Linear(80,16)\n",
    "        self.fc3=nn.Linear(16,2)\n",
    "\n",
    "    def forward(self,x):\n",
    "        x=F.relu(self.avgpool(self.conv1(x)))\n",
    "        x=F.relu(self.maxpool(self.conv2(x)))\n",
    "        x=x.view(-1,9*20)\n",
    "        x=F.relu(self.fc1(x))\n",
    "        x=F.relu(self.fc2(x))\n",
    "        x=self.fc3(x)\n",
    "        return x\n",
    ""
   ]
  },
  {
   "cell_type": "code",
   "execution_count": 13,
   "metadata": {},
   "outputs": [],
   "source": [
    "net = Net()\n",
    "criterion = nn.L1Loss()\n",
    "optimizer = optim.Adam(net.parameters(), lr=0.001)\n",
    "scheduler = optim.lr_scheduler.StepLR(optimizer, 3,gamma=0.1)"
   ]
  },
  {
   "cell_type": "code",
   "execution_count": 14,
   "metadata": {},
   "outputs": [
    {
     "output_type": "stream",
     "name": "stdout",
     "text": "[1,  1000] ava_loss: 4.92340\n[1,  2000] ava_loss: 0.09650\n[1,  3000] ava_loss: 0.08542\n[1,  4000] ava_loss: 0.06792\n[1,  5000] ava_loss: 0.06454\n[1,  6000] ava_loss: 0.05903\n[1,  7000] ava_loss: 0.05768\n[1,  8000] ava_loss: 0.05822\n[1,  9000] ava_loss: 0.05749\n[1, 10000] ava_loss: 0.05795\n[1, 11000] ava_loss: 0.05684\n[1, 12000] ava_loss: 0.05675\nFinished Training\n"
    }
   ],
   "source": [
    "running_loss = 0.0\n",
    "for epoch in range(1):  # loop over the dataset multiple times\n",
    "\n",
    "    for i, data in enumerate(trainloader, 0):\n",
    "\n",
    "        # get the inputs; data is a list of [inputs, labels]\n",
    "        inputs, labels = data\n",
    "\n",
    "        # zero the parameter gradients\n",
    "        optimizer.zero_grad()\n",
    "\n",
    "        # forward + backward + optimize\n",
    "        outputs = net(inputs)\n",
    "        loss = criterion(outputs, labels)\n",
    "        loss.backward()\n",
    "        optimizer.step()\n",
    "\n",
    "        running_loss += loss.item()\n",
    "        if i % 1000 == 999:    # every 1000 mini-batches...\n",
    "            scheduler.step()\n",
    "            print(\"[%d,%6d] ava_loss: %.5f\"%(epoch+1,i+1,running_loss/1000))\n",
    "            running_loss = 0.0\n",
    "print('Finished Training')"
   ]
  },
  {
   "cell_type": "code",
   "execution_count": 15,
   "metadata": {},
   "outputs": [],
   "source": [
    "PATH=\"../../pth/nsl_kdd_test.pth\"\n",
    "torch.save(net.state_dict(),PATH)"
   ]
  },
  {
   "cell_type": "code",
   "execution_count": 16,
   "metadata": {},
   "outputs": [
    {
     "output_type": "execute_result",
     "data": {
      "text/plain": "<All keys matched successfully>"
     },
     "metadata": {},
     "execution_count": 16
    }
   ],
   "source": [
    "net = Net()\n",
    "net.load_state_dict(torch.load(PATH))"
   ]
  },
  {
   "cell_type": "code",
   "execution_count": 17,
   "metadata": {},
   "outputs": [
    {
     "output_type": "stream",
     "name": "stdout",
     "text": "correct:16895  total:22544\nAccuracy of the network: 74 %\n"
    }
   ],
   "source": [
    "correct = 0\n",
    "total = 0\n",
    "with torch.no_grad():\n",
    "    for data in testloader:\n",
    "        cvdata, labels = data\n",
    "        outputs = net(cvdata)\n",
    "        _, predicted = torch.max(outputs.data, 1)\n",
    "        total += labels.size(0)\n",
    "        correct += (predicted == labels).sum().item()\n",
    "\n",
    "print(\"correct:%d  total:%d\" %(correct,total))\n",
    "print('Accuracy of the network: %d %%' % (\n",
    "    100 * correct / total))"
   ]
  },
  {
   "cell_type": "code",
   "execution_count": 18,
   "metadata": {},
   "outputs": [
    {
     "output_type": "stream",
     "name": "stdout",
     "text": "correct:9431  total:9711\nAccuracy of normaly : 97.116672 %\ncorrect:7464  total:12833\nAccuracy of anamaly : 58.162550 %\n"
    }
   ],
   "source": [
    "class_correct = list(0. for i in range(2))\n",
    "class_total = list(0. for i in range(2))\n",
    "with torch.no_grad():\n",
    "    for data in testloader:\n",
    "        cvdata, labels = data\n",
    "        outputs = net(cvdata)\n",
    "        _, predicted = torch.max(outputs, 1)\n",
    "        c = (predicted == labels).squeeze()\n",
    "       \n",
    "        for i in range(len(labels)):\n",
    "            label = labels[i]\n",
    "            class_correct[int(label)] += c[i].item()\n",
    "            class_total[int(label)] += 1\n",
    "\n",
    "for i in range(2):\n",
    "    print(\"correct:%d  total:%d\" %(class_correct[i],class_total[i]))\n",
    "    print('Accuracy of %5s : %2f %%' % (\n",
    "        classes[i], 100 * class_correct[i] / class_total[i]))"
   ]
  },
  {
   "cell_type": "code",
   "execution_count": null,
   "metadata": {},
   "outputs": [],
   "source": []
  }
 ]
}