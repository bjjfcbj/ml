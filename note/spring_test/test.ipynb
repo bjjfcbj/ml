{
 "nbformat": 4,
 "nbformat_minor": 2,
 "metadata": {
  "language_info": {
   "name": "python",
   "codemirror_mode": {
    "name": "ipython",
    "version": 3
   },
   "version": "3.8.1-final"
  },
  "orig_nbformat": 2,
  "file_extension": ".py",
  "mimetype": "text/x-python",
  "name": "python",
  "npconvert_exporter": "python",
  "pygments_lexer": "ipython3",
  "version": 3,
  "kernelspec": {
   "name": "python3",
   "display_name": "Python 3"
  }
 },
 "cells": [
  {
   "cell_type": "code",
   "execution_count": 13,
   "metadata": {
    "tags": [
     "outputPrepend"
    ]
   },
   "outputs": [],
   "source": [
    "import torch\n",
    "import numpy as np\n",
    "import torch.nn as nn\n",
    "import KddModel as kdd\n",
    "import pandas as pd\n",
    "from scipy.io import arff\n",
    ""
   ]
  },
  {
   "cell_type": "code",
   "execution_count": 19,
   "metadata": {},
   "outputs": [
    {
     "output_type": "stream",
     "name": "stdout",
     "text": "<class 'numpy.ndarray'>\n<class 'numpy.void'>\n(0., b'tcp', b'private', b'REJ', 0., 0., 0., 0., 0., 0., 0., 0., 0., 0., 0., 0., 0., 0., 0., 0., 0., 0., 229., 10., 0., 0., 1., 1., 0.04, 0.06, 0., 255., 10., 0.04, 0.06, 0., 0., 0., 0., 1., 1., b'neptune')\n"
    }
   ],
   "source": [
    "kddtest=np.genfromtxt(\"../../data/nsl-kdd/KDDTest+.txt\",dtype={\"names\":('duration','protocol_type','service','flag','src_bytes','dst_bytes','land','wrong_fragment','urgent','hot','num_failed_logins','logged_in','num_compromised','root_shell','su_attempted','num_root','num_file_creations','num_shells','num_access_files','num_outbound_cmds','is_host_login','is_guest_login','count','srv_count','serror_rate','srv_serror_rate','rerror_rate','srv_rerror_rate','same_srv_rate','diff_srv_rate','srv_diff_host_rate','dst_host_count','dst_host_srv_count','dst_host_same_srv_rate','dst_host_diff_srv_rate','dst_host_same_src_port_rate','dst_host_srv_diff_host_rate','dst_host_serror_rate','dst_host_srv_serror_rate','dst_host_rerror_rate','dst_host_srv_rerror_rate','class','level'),\n",
    "\"formats\":('f','S10','S16','S10','f','f','f','f','f','f','f','f','f','f','f','f','f','f','f','f','f','f','f','f','f','f','f','f','f','f','f','f','f','f','f','f','f','f','f','f','f','S20','f')},delimiter=',',usecols=range(42))\n",
    "print(type(kddtest))\n",
    "new=kddtest[0]\n",
    "print(type(new))\n",
    "print(new)"
   ]
  },
  {
   "cell_type": "code",
   "execution_count": 17,
   "metadata": {},
   "outputs": [
    {
     "output_type": "stream",
     "name": "stdout",
     "text": "tensor([[0.0000e+00, 1.0000e+00, 1.8000e+01, 1.0000e+01, 4.9100e+02, 0.0000e+00,\n         0.0000e+00, 0.0000e+00, 0.0000e+00, 0.0000e+00, 0.0000e+00, 0.0000e+00,\n         0.0000e+00, 0.0000e+00, 0.0000e+00, 0.0000e+00, 0.0000e+00, 0.0000e+00,\n         0.0000e+00, 0.0000e+00, 0.0000e+00, 0.0000e+00, 2.0000e+00, 2.0000e+00,\n         0.0000e+00, 0.0000e+00, 0.0000e+00, 0.0000e+00, 1.0000e+00, 0.0000e+00,\n         0.0000e+00, 1.5000e+02, 2.5000e+01, 1.7000e-01, 3.0000e-02, 1.7000e-01,\n         0.0000e+00, 0.0000e+00, 0.0000e+00]]) 1\n125973\n"
    }
   ],
   "source": [
    "new=kdd.Kddset(\"KDDTrain+.txt\",train=False)\n",
    "for nd,nl in new:\n",
    "    print(nd,nl)\n",
    "    break\n",
    " \n",
    "print(len(new))"
   ]
  },
  {
   "cell_type": "code",
   "execution_count": 16,
   "metadata": {},
   "outputs": [
    {
     "output_type": "stream",
     "name": "stdout",
     "text": "[1 2 3 4 5 6 7 8 9]\n[False False False False False  True  True  True  True]\n[1 2 3 4 5 1 1 1 1]\n"
    }
   ],
   "source": [
    "arr=np.array([1,2,3,4,5,6,7,8,9])\n",
    "print(arr)\n",
    "print(arr>5)\n",
    "arr[arr>5]=1\n",
    "print(arr)"
   ]
  },
  {
   "cell_type": "code",
   "execution_count": null,
   "metadata": {},
   "outputs": [],
   "source": []
  }
 ]
}