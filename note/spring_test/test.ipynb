{
 "nbformat": 4,
 "nbformat_minor": 2,
 "metadata": {
  "language_info": {
   "name": "python",
   "codemirror_mode": {
    "name": "ipython",
    "version": 3
   },
   "version": "3.8.1-final"
  },
  "orig_nbformat": 2,
  "file_extension": ".py",
  "mimetype": "text/x-python",
  "name": "python",
  "npconvert_exporter": "python",
  "pygments_lexer": "ipython3",
  "version": 3,
  "kernelspec": {
   "name": "python3",
   "display_name": "Python 3"
  }
 },
 "cells": [
  {
   "cell_type": "code",
   "execution_count": null,
   "metadata": {
    "tags": [
     "outputPrepend"
    ]
   },
   "outputs": [],
   "source": [
    "import torch\n",
    "import numpy as np\n",
    "import torch.nn as nn\n",
    "import NslKdd as kdd\n",
    "\n",
    "set=kdd.NslKddset(\"../../data\",\"KDDTest-21\",train=False)\n",
    "for da,la in set:\n",
    "    print(da)\n",
    "    print(da.size())\n",
    "    print(la)\n",
    "    print(la.size())\n",
    "    break"
   ]
  },
  {
   "cell_type": "code",
   "execution_count": null,
   "metadata": {},
   "outputs": [],
   "source": [
    "ha=np.array([[[2],[2]],[[2],[2]],[[2],[2]]])\n",
    "print(ha.size)\n",
    "print(ha.shape)\n",
    "ha=torch.tensor(ha).view(-1,*ha.shape)\n",
    "print(ha.size())\n",
    "print(ha.unsqueeze(0).size())"
   ]
  },
  {
   "cell_type": "code",
   "execution_count": null,
   "metadata": {},
   "outputs": [],
   "source": []
  }
 ]
}