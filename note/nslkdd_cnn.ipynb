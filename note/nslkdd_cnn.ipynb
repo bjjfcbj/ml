{
 "cells": [
  {
   "cell_type": "code",
   "execution_count": 16,
   "metadata": {},
   "outputs": [],
   "source": [
    "import torch\n",
    "#import torchvision\n",
    "#import torchvision.transforms as transforms\n",
    "\n",
    "import matplotlib.pyplot as plt\n",
    "import numpy as np\n",
    "\n",
    "import torch.nn as nn\n",
    "import torch.nn.functional as F\n",
    "import torch.optim as optim\n",
    "\n",
    "import KddModel as kdd"
   ]
  },
  {
   "cell_type": "code",
   "execution_count": 17,
   "metadata": {},
   "outputs": [],
   "source": [
    "batch_size = 100\n",
    "use_gpu=torch.cuda.is_available()\n",
    "root = '../../data/kdd/'\n",
    "transform = torch.FloatTensor\n",
    "\n",
    "# dataset\n",
    "trainset = kdd.Nslset(\"KDDTrain+.txt\", train=True, transform=transform)\n",
    "testset = kdd.Nslset(\"KDDTest+.txt\", train=False, transform=transform)\n",
    "\n",
    "# dataloaders\n",
    "trainloader = torch.utils.data.DataLoader(\n",
    "    trainset, batch_size=batch_size, shuffle=True)\n",
    "testloader = torch.utils.data.DataLoader(testset, batch_size=batch_size)\n",
    "\n",
    "# constant for classes\n",
    "classes = ('normaly', 'anormal')"
   ]
  },
  {
   "cell_type": "code",
   "execution_count": 15,
   "metadata": {},
   "outputs": [
    {
     "ename": "AttributeError",
     "evalue": "'Nslset' object has no attribute 'size'",
     "output_type": "error",
     "traceback": [
      "\u001b[0;31m---------------------------------------------------------------------------\u001b[0m",
      "\u001b[0;31mAttributeError\u001b[0m                            Traceback (most recent call last)",
      "\u001b[0;32m<ipython-input-15-6f9b14eac8d1>\u001b[0m in \u001b[0;36m<module>\u001b[0;34m\u001b[0m\n\u001b[0;32m----> 1\u001b[0;31m \u001b[0mprint\u001b[0m\u001b[0;34m(\u001b[0m\u001b[0mtrainset\u001b[0m\u001b[0;34m.\u001b[0m\u001b[0msize\u001b[0m\u001b[0;34m(\u001b[0m\u001b[0;34m)\u001b[0m\u001b[0;34m)\u001b[0m\u001b[0;34m\u001b[0m\u001b[0;34m\u001b[0m\u001b[0m\n\u001b[0m",
      "\u001b[0;31mAttributeError\u001b[0m: 'Nslset' object has no attribute 'size'"
     ]
    }
   ],
   "source": [
    "print(trainset.size())"
   ]
  },
  {
   "cell_type": "code",
   "execution_count": 3,
   "metadata": {},
   "outputs": [],
   "source": [
    "# CNN\n",
    "class Net(nn.Module):\n",
    "    def __init__(self):\n",
    "        super(Net, self).__init__()\n",
    "        self.convmodel = nn.Sequential(nn.Conv2d(1, 6, 3, padding=2),\n",
    "                                       nn.BatchNorm2d(6),\n",
    "                                       nn.Sigmoid(),\n",
    "                                       nn.Conv2d(6, 16, 3),\n",
    "                                       nn.BatchNorm2d(16),\n",
    "                                       nn.Sigmoid(),\n",
    "                                       )\n",
    "        self.fcmodel = nn.Sequential(nn.Linear(16*7*7, 200),\n",
    "                                     nn.BatchNorm1d(200),\n",
    "                                     nn.Sigmoid(),\n",
    "                                     nn.Linear(200, 100),\n",
    "                                     nn.Sigmoid(),\n",
    "                                     nn.Linear(100, 20),\n",
    "                                     nn.Sigmoid(),\n",
    "                                     nn.Linear(20, 2)\n",
    "                                     )\n",
    "\n",
    "    def forward(self, out):\n",
    "        out = self.convmodel(out)\n",
    "        out = out.view(-1, 16*7*7)\n",
    "        out = self.fcmodel(out)\n",
    "        return out"
   ]
  },
  {
   "cell_type": "code",
   "execution_count": 4,
   "metadata": {},
   "outputs": [],
   "source": [
    "def accuracy(net, testloader):\n",
    "    correct = 0\n",
    "    total = 0\n",
    "    with torch.no_grad():\n",
    "        for data in testloader:\n",
    "            cvdata, labels = data\n",
    "            if(use_gpu):\n",
    "                cvdata=cvdata.cuda()\n",
    "                labels=labels.cuda()\n",
    "            outputs = net(cvdata)\n",
    "            _, predicted = torch.max(outputs.data, 1)\n",
    "            predicted[predicted > 0] = 1.\n",
    "            total += labels.size(0)\n",
    "            correct += (predicted == labels).sum().item()\n",
    "\n",
    "    #print(\"correct:%d  total:%d\" %(correct,total))\n",
    "    print('Accuracy: %d %%' % (100 * correct / total))"
   ]
  },
  {
   "cell_type": "code",
   "execution_count": 5,
   "metadata": {},
   "outputs": [],
   "source": [
    "net = Net()\n",
    "criterion = nn.CrossEntropyLoss()\n",
    "if(use_gpu):\n",
    "    net=net.cuda()\n",
    "    criterion=criterion.cuda()\n",
    "optimizer = optim.Adam(net.parameters(), lr=1e-2)\n",
    "scheduler = optim.lr_scheduler.StepLR(optimizer, 6,gamma=0.1)"
   ]
  },
  {
   "cell_type": "code",
   "execution_count": 6,
   "metadata": {},
   "outputs": [
    {
     "name": "stdout",
     "output_type": "stream",
     "text": [
      "[1,  1000] ava_loss: 0.15622\n",
      "Accuracy: 78 %\n",
      "[2,  1000] ava_loss: 0.08823\n",
      "Accuracy: 81 %\n",
      "[3,  1000] ava_loss: 0.06143\n",
      "Accuracy: 80 %\n",
      "[4,  1000] ava_loss: 0.04890\n",
      "Accuracy: 77 %\n",
      "[5,  1000] ava_loss: 0.04639\n",
      "Accuracy: 84 %\n",
      "[6,  1000] ava_loss: 0.03688\n",
      "Accuracy: 83 %\n",
      "[7,  1000] ava_loss: 0.03241\n",
      "Accuracy: 80 %\n",
      "[8,  1000] ava_loss: 0.03307\n",
      "Accuracy: 79 %\n",
      "[9,  1000] ava_loss: 0.02710\n",
      "Accuracy: 84 %\n",
      "[10,  1000] ava_loss: 0.02560\n",
      "Accuracy: 82 %\n",
      "[11,  1000] ava_loss: 0.02521\n",
      "Accuracy: 81 %\n",
      "[12,  1000] ava_loss: 0.02249\n",
      "Accuracy: 78 %\n",
      "[13,  1000] ava_loss: 0.02323\n",
      "Accuracy: 81 %\n",
      "[14,  1000] ava_loss: 0.02179\n",
      "Accuracy: 81 %\n",
      "[15,  1000] ava_loss: 0.02166\n",
      "Accuracy: 81 %\n",
      "[16,  1000] ava_loss: 0.01970\n",
      "Accuracy: 82 %\n",
      "[17,  1000] ava_loss: 0.01979\n",
      "Accuracy: 80 %\n",
      "[18,  1000] ava_loss: 0.02031\n",
      "Accuracy: 82 %\n",
      "[19,  1000] ava_loss: 0.01892\n",
      "Accuracy: 79 %\n",
      "[20,  1000] ava_loss: 0.01748\n",
      "Accuracy: 79 %\n",
      "Finished Training\n"
     ]
    }
   ],
   "source": [
    "running_loss = 0.0\n",
    "mini_batches_count = 1000\n",
    "epochs=20\n",
    "for epoch in range(epochs):  # loop over the dataset multiple times\n",
    "    for i, data in enumerate(trainloader, 0):\n",
    "\n",
    "        # get the inputs; data is a list of [inputs, labels]\n",
    "        inputs, labels = data\n",
    "        if(use_gpu):\n",
    "            inputs=inputs.cuda()\n",
    "            labels=labels.cuda()\n",
    "\n",
    "        # zero the parameter gradients\n",
    "        optimizer.zero_grad()\n",
    "\n",
    "        # forward + backward + optimize\n",
    "        outputs = net(inputs)\n",
    "        # whatur(labels)\n",
    "        # break\n",
    "        loss = criterion(outputs, labels)\n",
    "        loss.backward()\n",
    "        optimizer.step()\n",
    "\n",
    "        running_loss += loss.item()\n",
    "        # every 1000 mini-batches...\n",
    "        if i % mini_batches_count == (mini_batches_count-1):\n",
    "            # scheduler.step()\n",
    "            print(\"[%d,%6d] ava_loss: %.5f\" %\n",
    "                  (epoch+1, i+1, running_loss/mini_batches_count))\n",
    "            running_loss = 0.0\n",
    "\n",
    "    accuracy(net, testloader)\n",
    "print('Finished Training')"
   ]
  },
  {
   "cell_type": "code",
   "execution_count": 7,
   "metadata": {},
   "outputs": [],
   "source": [
    "PATH = \"../../pth/nsl_kdd_test.pth\"\n",
    "torch.save(net.state_dict(), PATH)"
   ]
  },
  {
   "cell_type": "code",
   "execution_count": 8,
   "metadata": {
    "scrolled": true
   },
   "outputs": [
    {
     "data": {
      "text/plain": [
       "<All keys matched successfully>"
      ]
     },
     "execution_count": 8,
     "metadata": {},
     "output_type": "execute_result"
    }
   ],
   "source": [
    "net = Net()\n",
    "net.load_state_dict(torch.load(PATH))"
   ]
  },
  {
   "cell_type": "code",
   "execution_count": 9,
   "metadata": {
    "scrolled": true
   },
   "outputs": [
    {
     "name": "stdout",
     "output_type": "stream",
     "text": [
      "total:9711,correct:9396\n",
      "Accuracy: 96.7563 %\n",
      "total:12833,correct:8576\n",
      "Accuracy: 66.8277 %\n"
     ]
    }
   ],
   "source": [
    "class_correct = list(0 for i in range(2))\n",
    "class_total = list(0 for i in range(2))\n",
    "with torch.no_grad():\n",
    "    for data in testloader:\n",
    "        images, labels = data\n",
    "        outputs = net(images)\n",
    "        _, predicted = torch.max(outputs, 1)\n",
    "        predicted[predicted > 0] = 1\n",
    "        c = (predicted == labels).squeeze()\n",
    "        for i in range(len(labels)):\n",
    "            label = labels[i]\n",
    "            class_correct[label] += c[i].item()\n",
    "            class_total[label] += 1\n",
    "\n",
    "\n",
    "for i in range(2):\n",
    "    print('total:%d,correct:%d' % (class_total[i], class_correct[i]))\n",
    "    print('Accuracy: %.4f %%' % (100 * class_correct[i] / class_total[i]))"
   ]
  },
  {
   "cell_type": "code",
   "execution_count": null,
   "metadata": {},
   "outputs": [],
   "source": []
  }
 ],
 "metadata": {
  "celltoolbar": "Edit Metadata",
  "file_extension": ".py",
  "kernelspec": {
   "display_name": "Python 3",
   "language": "python",
   "name": "python3"
  },
  "language_info": {
   "codemirror_mode": {
    "name": "ipython",
    "version": 3
   },
   "file_extension": ".py",
   "mimetype": "text/x-python",
   "name": "python",
   "nbconvert_exporter": "python",
   "pygments_lexer": "ipython3",
   "version": "3.8.1"
  },
  "mimetype": "text/x-python",
  "name": "python",
  "npconvert_exporter": "python",
  "pygments_lexer": "ipython3",
  "toc": {
   "base_numbering": 1,
   "nav_menu": {},
   "number_sections": true,
   "sideBar": true,
   "skip_h1_title": false,
   "title_cell": "Table of Contents",
   "title_sidebar": "Contents",
   "toc_cell": false,
   "toc_position": {},
   "toc_section_display": true,
   "toc_window_display": false
  },
  "version": 3
 },
 "nbformat": 4,
 "nbformat_minor": 2
}
