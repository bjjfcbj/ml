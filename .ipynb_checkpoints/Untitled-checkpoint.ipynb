{
 "cells": [
  {
   "cell_type": "code",
   "execution_count": 1,
   "metadata": {},
   "outputs": [
    {
     "name": "stdout",
     "output_type": "stream",
     "text": [
      "tf.Tensor([4. 6.], shape=(2,), dtype=float32)\n"
     ]
    }
   ],
   "source": [
    "import tensorflow as tf\n",
    "\n",
    "a=tf.constant([1.0,2.0])\n",
    "b=tf.constant([3.0,4.0])\n",
    "\n",
    "result=a+b\n",
    "print(result)"
   ]
  },
  {
   "cell_type": "markdown",
   "metadata": {},
   "source": [
    "tensorflow2.0的v1.0用法"
   ]
  },
  {
   "cell_type": "code",
   "execution_count": 2,
   "metadata": {},
   "outputs": [
    {
     "name": "stdout",
     "output_type": "stream",
     "text": [
      "WARNING:tensorflow:From /home/d/anaconda3/envs/threatIntelligence/lib/python3.7/site-packages/tensorflow_core/python/compat/v2_compat.py:65: disable_resource_variables (from tensorflow.python.ops.variable_scope) is deprecated and will be removed in a future version.\n",
      "Instructions for updating:\n",
      "non-resource variables are not supported in the long term\n",
      "Tensor(\"MatMul:0\", shape=(1, 1), dtype=float32)\n",
      "[[13.]]\n"
     ]
    }
   ],
   "source": [
    "import tensorflow.compat.v1 as tf\n",
    "tf.disable_v2_behavior()\n",
    "\n",
    "x=tf.constant([[1.0,2.0]])\n",
    "w=tf.constant([[3.0],[5.0]])\n",
    "y=tf.matmul(x,w)\n",
    "print(y)\n",
    "\n",
    "with tf.Session() as sess:\n",
    "    print(sess.run(y))\n",
    "    pass"
   ]
  },
  {
   "cell_type": "code",
   "execution_count": 3,
   "metadata": {
    "scrolled": true
   },
   "outputs": [
    {
     "name": "stdout",
     "output_type": "stream",
     "text": [
      "Tensor(\"MatMul_1:0\", shape=(1, 1), dtype=float32)\n",
      "[[11.]]\n"
     ]
    }
   ],
   "source": [
    "import tensorflow as tf\n",
    "\n",
    "x=tf.constant([[1.0,2.0]])\n",
    "w=tf.constant([[3.0],[4.0]])\n",
    "y=tf.matmul(x,w)\n",
    "print(y)\n",
    "\n",
    "with tf.compat.v1.Session() as sess:\n",
    "    print(sess.run(y))\n",
    "    pass"
   ]
  },
  {
   "cell_type": "markdown",
   "metadata": {},
   "source": [
    "tensorflow tutorials(keras)"
   ]
  },
  {
   "cell_type": "code",
   "execution_count": 3,
   "metadata": {},
   "outputs": [
    {
     "name": "stdout",
     "output_type": "stream",
     "text": [
      "Train on 60000 samples\n",
      "Epoch 1/5\n",
      "60000/60000 [==============================] - 9s 147us/sample - loss: 0.2859 - accuracy: 0.9179\n",
      "Epoch 2/5\n",
      "60000/60000 [==============================] - 9s 154us/sample - loss: 0.1388 - accuracy: 0.9589\n",
      "Epoch 3/5\n",
      "60000/60000 [==============================] - 8s 138us/sample - loss: 0.1052 - accuracy: 0.9686\n",
      "Epoch 4/5\n",
      "60000/60000 [==============================] - 9s 148us/sample - loss: 0.0869 - accuracy: 0.9725\n",
      "Epoch 5/5\n",
      "60000/60000 [==============================] - 8s 136us/sample - loss: 0.0746 - accuracy: 0.9769\n",
      "10000/1 - 1s - loss: 0.0376 - accuracy: 0.9757\n"
     ]
    },
    {
     "data": {
      "text/plain": [
       "[0.0729212139598094, 0.9757]"
      ]
     },
     "execution_count": 3,
     "metadata": {},
     "output_type": "execute_result"
    }
   ],
   "source": [
    "from __future__ import absolute_import,division,print_function,unicode_literals\n",
    "import tensorflow as tf\n",
    "\n",
    "mnist=tf.keras.datasets.mnist\n",
    "(x_train,y_train),(x_test,y_test)=mnist.load_data()\n",
    "x_train,x_test=x_train/255.0,x_test/255.0\n",
    "\n",
    "model=tf.keras.models.Sequential([\n",
    "    tf.keras.layers.Flatten(input_shape=(28,28)),\n",
    "    tf.keras.layers.Dense(128,activation='relu'),\n",
    "    tf.keras.layers.Dropout(0.2),\n",
    "    tf.keras.layers.Dense(10,activation='softmax')\n",
    "])\n",
    "model.compile(optimizer='adam',\n",
    "             loss='sparse_categorical_crossentropy',\n",
    "             metrics=['accuracy'])\n",
    "\n",
    "model.fit(x_train,y_train,epochs=5)\n",
    "model.evaluate(x_test,y_test,verbose=2)"
   ]
  },
  {
   "cell_type": "code",
   "execution_count": 6,
   "metadata": {},
   "outputs": [
    {
     "name": "stdout",
     "output_type": "stream",
     "text": [
      "Train on 60000 samples\n",
      "Epoch 1/10\n",
      "60000/60000 [==============================] - 9s 145us/sample - loss: 0.4959 - accuracy: 0.8266\n",
      "Epoch 2/10\n",
      "60000/60000 [==============================] - 9s 147us/sample - loss: 0.3755 - accuracy: 0.8656\n",
      "Epoch 3/10\n",
      "60000/60000 [==============================] - 9s 145us/sample - loss: 0.3379 - accuracy: 0.8760\n",
      "Epoch 4/10\n",
      "60000/60000 [==============================] - 9s 146us/sample - loss: 0.3102 - accuracy: 0.8870\n",
      "Epoch 5/10\n",
      "60000/60000 [==============================] - 9s 149us/sample - loss: 0.2946 - accuracy: 0.8906\n",
      "Epoch 6/10\n",
      "60000/60000 [==============================] - 9s 142us/sample - loss: 0.2777 - accuracy: 0.8969\n",
      "Epoch 7/10\n",
      "60000/60000 [==============================] - 8s 134us/sample - loss: 0.2659 - accuracy: 0.9010\n",
      "Epoch 8/10\n",
      "60000/60000 [==============================] - 6s 94us/sample - loss: 0.2556 - accuracy: 0.9046\n",
      "Epoch 9/10\n",
      "60000/60000 [==============================] - 3s 55us/sample - loss: 0.2447 - accuracy: 0.9090\n",
      "Epoch 10/10\n",
      "60000/60000 [==============================] - 4s 69us/sample - loss: 0.2379 - accuracy: 0.9107\n",
      "10000/1 - 0s - loss: 0.2927 - accuracy: 0.8853\n",
      "\n",
      "Test accuracy: 0.8853\n"
     ]
    }
   ],
   "source": [
    "from __future__ import absolute_import, division, print_function, unicode_literals\n",
    "# TensorFlow and tf.keras\n",
    "import tensorflow as tf\n",
    "from tensorflow import keras\n",
    "# Helper libraries\n",
    "import numpy as np\n",
    "import matplotlib.pyplot as plt\n",
    "\n",
    "fashion_mnist = keras.datasets.fashion_mnist\n",
    "(train_images, train_labels), (test_images, test_labels) = fashion_mnist.load_data()\n",
    "\n",
    "class_names = ['T-shirt/top', 'Trouser', 'Pullover', 'Dress', 'Coat',\n",
    "               'Sandal', 'Shirt', 'Sneaker', 'Bag', 'Ankle boot']\n",
    "\n",
    "# plt.figure()\n",
    "# plt.imshow(train_images[1])\n",
    "# plt.colorbar()\n",
    "# plt.grid(False)\n",
    "# plt.show()\n",
    "# plt.figure(figsize=(10,10))\n",
    "# for i in range(25):\n",
    "#     plt.subplot(5,5,i+1)\n",
    "#     plt.xticks([])\n",
    "#     plt.yticks([])\n",
    "#     plt.grid(False)\n",
    "#     plt.imshow(train_images[i], cmap=plt.cm.binary)\n",
    "#     plt.xlabel(class_names[train_labels[i]])\n",
    "# plt.show()\n",
    "\n",
    "#Scale these values to a range of 0 to 1 before feeding them to the neural network model.\n",
    "#To do so, divide the values by 255.\n",
    "#It's important that the training set and the testing set be preprocessed in the same way:\n",
    "train_images = train_images / 255.0\n",
    "test_images = test_images / 255.0\n",
    "\n",
    "#The basic building block of a neural network is the layer.\n",
    "#Layers extract representations from the data fed into them.\n",
    "#Hopefully, these representations are meaningful for the problem at hand.\n",
    "model = keras.Sequential([\n",
    "    keras.layers.Flatten(input_shape=(28, 28)),\n",
    "    keras.layers.Dense(128, activation='relu'),\n",
    "    keras.layers.Dense(10, activation='softmax')\n",
    "])\n",
    "\n",
    "#Before the model is ready for training, it needs a few more settings. These are added during the model's compile step:\n",
    "# Loss function —This measures how accurate the model is during training. You want to minimize this function to \"steer\" the model in the right direction.\n",
    "# Optimizer —This is how the model is updated based on the data it sees and its loss function.\n",
    "# Metrics —Used to monitor the training and testing steps. The following example uses accuracy, the fraction of the images that are correctly classified.\n",
    "model.compile(optimizer='adam',\n",
    "              loss='sparse_categorical_crossentropy',\n",
    "              metrics=['accuracy'])\n",
    "\n",
    "model.fit(train_images, train_labels, epochs=10)\n",
    "test_loss, test_acc = model.evaluate(test_images,  test_labels, verbose=2)\n",
    "print('\\nTest accuracy:', test_acc)"
   ]
  },
  {
   "cell_type": "code",
   "execution_count": null,
   "metadata": {},
   "outputs": [],
   "source": []
  }
 ],
 "metadata": {
  "kernelspec": {
   "display_name": "Python 3",
   "language": "python",
   "name": "python3"
  },
  "language_info": {
   "codemirror_mode": {
    "name": "ipython",
    "version": 3
   },
   "file_extension": ".py",
   "mimetype": "text/x-python",
   "name": "python",
   "nbconvert_exporter": "python",
   "pygments_lexer": "ipython3",
   "version": "3.7.6"
  }
 },
 "nbformat": 4,
 "nbformat_minor": 2
}
